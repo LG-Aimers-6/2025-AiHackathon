{
 "cells": [
  {
   "cell_type": "code",
   "execution_count": 1,
   "id": "6186df7e-9bea-42d9-9ca9-edd3eb7ef17b",
   "metadata": {},
   "outputs": [],
   "source": [
    "import pandas as pd\n",
    "\n",
    "train_df = pd.read_csv(\"train.csv\")\n",
    "test_df = pd.read_csv(\"test.csv\")"
   ]
  },
  {
   "cell_type": "code",
   "execution_count": 2,
   "id": "edc60575-e73f-4e18-907b-0945e4b61d48",
   "metadata": {},
   "outputs": [
    {
     "data": {
      "text/plain": [
       "(256351, 69)"
      ]
     },
     "execution_count": 2,
     "metadata": {},
     "output_type": "execute_result"
    }
   ],
   "source": [
    "train_df.shape"
   ]
  },
  {
   "cell_type": "markdown",
   "id": "1936eab4-ab9b-4644-b7cf-9572cedd9913",
   "metadata": {},
   "source": [
    "## columns drop"
   ]
  },
  {
   "cell_type": "code",
   "execution_count": 3,
   "id": "57cb6251-35a3-48fc-ba8a-9adad85b0d5f",
   "metadata": {},
   "outputs": [
    {
     "name": "stdout",
     "output_type": "stream",
     "text": [
      "(256351, 59)\n"
     ]
    }
   ],
   "source": [
    "# 컬럼 삭제\n",
    "columns_to_drop = [\n",
    "    \"임신 시도 또는 마지막 임신 경과 연수\",\n",
    "    \"착상 전 유전 검사 사용 여부\",\n",
    "    \"PGD 시술 여부\",\n",
    "    \"PGS 시술 여부\",\n",
    "    \"난자 해동 경과일\",\n",
    "    \"배아 해동 경과일\",\n",
    "    \"불임 원인 - 여성 요인\",\n",
    "    \"난자 채취 경과일\",\n",
    "    \"배란 유도 유형\",\n",
    "    \"불임 원인 - 정자 면역학적 요인\"\n",
    "]\n",
    "\n",
    "train_df.drop(columns=columns_to_drop, inplace=True)\n",
    "print(train_df.shape)"
   ]
  },
  {
   "cell_type": "markdown",
   "id": "bd291b9a-b0dc-47bc-8a28-5270974c783e",
   "metadata": {},
   "source": [
    "## 결측치 처리"
   ]
  },
  {
   "cell_type": "code",
   "execution_count": 4,
   "id": "fcb34419-7f19-420d-8db6-da026b4f0ed5",
   "metadata": {},
   "outputs": [],
   "source": [
    "# 특정 시술 때문에 없는 값은 -1로 처리\n",
    "columns_to_fill_na = [\n",
    "    \"단일 배아 이식 여부\", \"착상 전 유전 진단 사용 여부\", \"배아 생성 주요 이유\", \"총 생성 배아 수\",\n",
    "    \"미세주입된 난자 수\", \"미세주입에서 생성된 배아 수\", \"이식된 배아 수\", \"미세주입 배아 이식 수\",\n",
    "    \"저장된 배아 수\", \"미세주입 후 저장된 배아 수\", \"해동된 배아 수\", \"해동 난자 수\", \n",
    "    \"수집된 신선 난자 수\", \"저장된 신선 난자 수\", \"혼합된 난자 수\", \"파트너 정자와 혼합된 난자 수\", \n",
    "    \"기증자 정자와 혼합된 난자 수\", \"동결 배아 사용 여부\", \"신선 배아 사용 여부\", \"기증 배아 사용 여부\", \"대리모 여부\"\n",
    "]\n",
    "\n",
    "train_df[columns_to_fill_na] = train_df[columns_to_fill_na].fillna(-1)"
   ]
  },
  {
   "cell_type": "code",
   "execution_count": 5,
   "id": "61b47e76-e099-40f8-9c76-50c183c5a908",
   "metadata": {},
   "outputs": [],
   "source": [
    "columns_to_fill = [\"난자 혼합 경과일\", \"배아 이식 경과일\"]\n",
    "\n",
    "# \"DI\" 시술인 경우 -1로 대체\n",
    "train_df.loc[train_df[\"시술 유형\"] == \"DI\", columns_to_fill] = -1\n",
    "\n",
    "# \"IVF\" 시술인 경우 중앙값으로 대체\n",
    "train_df.loc[(train_df[\"시술 유형\"] == \"IVF\") & (train_df[\"난자 혼합 경과일\"].isnull()), \"난자 혼합 경과일\"] = 0.0\n",
    "train_df.loc[(train_df[\"시술 유형\"] == \"IVF\") & (train_df[\"배아 이식 경과일\"].isnull()), \"배아 이식 경과일\"] = 3.0\n",
    "\n",
    "\n",
    "# '배아 이식 경과일' 중앙값: 3.0 , 최빈값: 5.0입니다.\n",
    "# 최빈값으로 대체하고 싶으신 경우 5로 바꿔주시면 됩니다. \n"
   ]
  },
  {
   "cell_type": "code",
   "execution_count": 6,
   "id": "3d9a0812-0d93-402e-8a51-90dbe5eb27f2",
   "metadata": {},
   "outputs": [],
   "source": [
    "# 적은 값이기 때문에 행 삭제\n",
    "train_df = train_df.dropna(subset=[\"특정 시술 유형\"])"
   ]
  },
  {
   "cell_type": "markdown",
   "id": "1a1e7e46-65a5-4420-bde8-cec4ff0118ec",
   "metadata": {},
   "source": [
    "## 로그 변환"
   ]
  },
  {
   "cell_type": "code",
   "execution_count": 7,
   "id": "15edf91d-3b65-4df4-b75f-aa516036c06f",
   "metadata": {},
   "outputs": [],
   "source": [
    "# 해당 없음을 표현한 -1값을 제외하고 로그변환\n",
    "import numpy as np\n",
    "\n",
    "columns_to_log_transform = [\n",
    "    \"총 생성 배아 수\", \"미세주입된 난자 수\", \"미세주입에서 생성된 배아 수\", \"저장된 배아 수\", \n",
    "    \"기증자 정자와 혼합된 난자 수\", \"파트너 정자와 혼합된 난자 수\", \"혼합된 난자 수\", \n",
    "    \"저장된 신선 난자 수\", \"수집된 신선 난자 수\", \"해동 난자 수\", \n",
    "    \"해동된 배아 수\", \"미세주입 후 저장된 배아 수\", \"이식된 배아 수\", \"미세주입 배아 이식 수\"\n",
    "]\n",
    "\n",
    "for col in columns_to_log_transform:\n",
    "    mask = train_df[col] != -1 \n",
    "    train_df.loc[mask, col] = np.log1p(train_df.loc[mask, col])"
   ]
  },
  {
   "cell_type": "markdown",
   "id": "a6898a24-7b60-407a-94a1-d0328909a0e1",
   "metadata": {},
   "source": [
    "## 데이터 타입 변경"
   ]
  },
  {
   "cell_type": "code",
   "execution_count": 8,
   "id": "fb19e3a8-ad8e-472a-a7a1-1f552aadb22e",
   "metadata": {},
   "outputs": [],
   "source": [
    "# 범주형 컬럼 string으로 변경\n",
    "categorical_columns = [\n",
    "    \"시술 시기 코드\", \"시술 당시 나이\", \"시술 유형\", \"특정 시술 유형\", \"배아 생성 주요 이유\", \n",
    "    \"총 시술 횟수\", \"클리닉 내 총 시술 횟수\", \"IVF 시술 횟수\", \"DI 시술 횟수\", \n",
    "    \"총 임신 횟수\", \"IVF 임신 횟수\", \"DI 임신 횟수\", \"총 출산 횟수\", \n",
    "    \"IVF 출산 횟수\", \"DI 출산 횟수\", \"난자 출처\", \"정자 출처\", \n",
    "    \"난자 기증자 나이\", \"정자 기증자 나이\"\n",
    "]\n",
    "\n",
    "train_df[categorical_columns] = train_df[categorical_columns].astype(str)"
   ]
  },
  {
   "cell_type": "code",
   "execution_count": 9,
   "id": "a839f928-1924-4100-9c25-73589a0edbaf",
   "metadata": {},
   "outputs": [],
   "source": [
    "# 이진형 변수, 경과일 컬럼 int형으로 변경\n",
    "binary_columns = [\n",
    "    \"배란 자극 여부\", \"단일 배아 이식 여부\", \"착상 전 유전 진단 사용 여부\", \"남성 주 불임 원인\", \n",
    "    \"남성 부 불임 원인\", \"여성 주 불임 원인\", \"여성 부 불임 원인\", \"부부 주 불임 원인\", \n",
    "    \"부부 부 불임 원인\", \"불명확 불임 원인\", \"불임 원인 - 난관 질환\", \"불임 원인 - 남성 요인\", \n",
    "    \"불임 원인 - 배란 장애\", \"불임 원인 - 자궁경부 문제\", \"불임 원인 - 자궁내막증\", \"불임 원인 - 정자 농도\", \n",
    "    \"불임 원인 - 정자 운동성\", \"불임 원인 - 정자 형태\", \"동결 배아 사용 여부\", \"신선 배아 사용 여부\", \n",
    "    \"기증 배아 사용 여부\", \"대리모 여부\", \"난자 혼합 경과일\", \"배아 이식 경과일\"\n",
    "]\n",
    "\n",
    "train_df[binary_columns] = train_df[binary_columns].astype(int)"
   ]
  },
  {
   "cell_type": "code",
   "execution_count": 10,
   "id": "3d6514ec-1c21-44a2-b193-9782cdc5d5fc",
   "metadata": {},
   "outputs": [],
   "source": [
    "# 로그 변환을 한 컬럼들 float형으로 변경\n",
    "numeric_columns = [\n",
    "    \"총 생성 배아 수\", \"미세주입된 난자 수\", \"미세주입에서 생성된 배아 수\", \"저장된 배아 수\", \n",
    "    \"기증자 정자와 혼합된 난자 수\", \"파트너 정자와 혼합된 난자 수\", \"혼합된 난자 수\", \n",
    "    \"저장된 신선 난자 수\", \"수집된 신선 난자 수\", \"해동 난자 수\", \n",
    "    \"해동된 배아 수\", \"미세주입 후 저장된 배아 수\", \"이식된 배아 수\", \"미세주입 배아 이식 수\" \n",
    "]\n",
    "\n",
    "train_df[numeric_columns] = train_df[numeric_columns].astype(float)"
   ]
  },
  {
   "cell_type": "markdown",
   "id": "cb3569c6-7b8e-4d55-af1d-5f3f145259b7",
   "metadata": {},
   "source": [
    "## 데이터 확인"
   ]
  },
  {
   "cell_type": "code",
   "execution_count": 11,
   "id": "f7c6cfd3-6c73-439d-a5c4-98ba099c76fd",
   "metadata": {},
   "outputs": [
    {
     "name": "stdout",
     "output_type": "stream",
     "text": [
      "데이터 크기: (256349, 59)\n"
     ]
    }
   ],
   "source": [
    "print(f\"데이터 크기: {train_df.shape}\")"
   ]
  },
  {
   "cell_type": "code",
   "execution_count": 12,
   "id": "6630a39f-36ce-4388-b40b-1d5cc01d4ea3",
   "metadata": {},
   "outputs": [
    {
     "data": {
      "text/html": [
       "<div>\n",
       "<style scoped>\n",
       "    .dataframe tbody tr th:only-of-type {\n",
       "        vertical-align: middle;\n",
       "    }\n",
       "\n",
       "    .dataframe tbody tr th {\n",
       "        vertical-align: top;\n",
       "    }\n",
       "\n",
       "    .dataframe thead th {\n",
       "        text-align: right;\n",
       "    }\n",
       "</style>\n",
       "<table border=\"1\" class=\"dataframe\">\n",
       "  <thead>\n",
       "    <tr style=\"text-align: right;\">\n",
       "      <th></th>\n",
       "      <th>ID</th>\n",
       "      <th>시술 시기 코드</th>\n",
       "      <th>시술 당시 나이</th>\n",
       "      <th>시술 유형</th>\n",
       "      <th>특정 시술 유형</th>\n",
       "      <th>배란 자극 여부</th>\n",
       "      <th>단일 배아 이식 여부</th>\n",
       "      <th>착상 전 유전 진단 사용 여부</th>\n",
       "      <th>남성 주 불임 원인</th>\n",
       "      <th>남성 부 불임 원인</th>\n",
       "      <th>...</th>\n",
       "      <th>정자 출처</th>\n",
       "      <th>난자 기증자 나이</th>\n",
       "      <th>정자 기증자 나이</th>\n",
       "      <th>동결 배아 사용 여부</th>\n",
       "      <th>신선 배아 사용 여부</th>\n",
       "      <th>기증 배아 사용 여부</th>\n",
       "      <th>대리모 여부</th>\n",
       "      <th>난자 혼합 경과일</th>\n",
       "      <th>배아 이식 경과일</th>\n",
       "      <th>임신 성공 여부</th>\n",
       "    </tr>\n",
       "  </thead>\n",
       "  <tbody>\n",
       "    <tr>\n",
       "      <th>0</th>\n",
       "      <td>TRAIN_000000</td>\n",
       "      <td>TRZKPL</td>\n",
       "      <td>만18-34세</td>\n",
       "      <td>IVF</td>\n",
       "      <td>ICSI</td>\n",
       "      <td>1</td>\n",
       "      <td>0</td>\n",
       "      <td>0</td>\n",
       "      <td>0</td>\n",
       "      <td>0</td>\n",
       "      <td>...</td>\n",
       "      <td>배우자 제공</td>\n",
       "      <td>알 수 없음</td>\n",
       "      <td>알 수 없음</td>\n",
       "      <td>0</td>\n",
       "      <td>1</td>\n",
       "      <td>0</td>\n",
       "      <td>0</td>\n",
       "      <td>0</td>\n",
       "      <td>3</td>\n",
       "      <td>0</td>\n",
       "    </tr>\n",
       "    <tr>\n",
       "      <th>1</th>\n",
       "      <td>TRAIN_000001</td>\n",
       "      <td>TRYBLT</td>\n",
       "      <td>만45-50세</td>\n",
       "      <td>IVF</td>\n",
       "      <td>ICSI</td>\n",
       "      <td>0</td>\n",
       "      <td>0</td>\n",
       "      <td>0</td>\n",
       "      <td>0</td>\n",
       "      <td>0</td>\n",
       "      <td>...</td>\n",
       "      <td>배우자 제공</td>\n",
       "      <td>알 수 없음</td>\n",
       "      <td>알 수 없음</td>\n",
       "      <td>0</td>\n",
       "      <td>1</td>\n",
       "      <td>0</td>\n",
       "      <td>0</td>\n",
       "      <td>0</td>\n",
       "      <td>3</td>\n",
       "      <td>0</td>\n",
       "    </tr>\n",
       "    <tr>\n",
       "      <th>2</th>\n",
       "      <td>TRAIN_000002</td>\n",
       "      <td>TRVNRY</td>\n",
       "      <td>만18-34세</td>\n",
       "      <td>IVF</td>\n",
       "      <td>IVF</td>\n",
       "      <td>1</td>\n",
       "      <td>0</td>\n",
       "      <td>0</td>\n",
       "      <td>0</td>\n",
       "      <td>0</td>\n",
       "      <td>...</td>\n",
       "      <td>배우자 제공</td>\n",
       "      <td>알 수 없음</td>\n",
       "      <td>알 수 없음</td>\n",
       "      <td>0</td>\n",
       "      <td>1</td>\n",
       "      <td>0</td>\n",
       "      <td>0</td>\n",
       "      <td>0</td>\n",
       "      <td>2</td>\n",
       "      <td>0</td>\n",
       "    </tr>\n",
       "    <tr>\n",
       "      <th>3</th>\n",
       "      <td>TRAIN_000003</td>\n",
       "      <td>TRJXFG</td>\n",
       "      <td>만35-37세</td>\n",
       "      <td>IVF</td>\n",
       "      <td>ICSI</td>\n",
       "      <td>1</td>\n",
       "      <td>0</td>\n",
       "      <td>0</td>\n",
       "      <td>0</td>\n",
       "      <td>0</td>\n",
       "      <td>...</td>\n",
       "      <td>배우자 제공</td>\n",
       "      <td>알 수 없음</td>\n",
       "      <td>알 수 없음</td>\n",
       "      <td>0</td>\n",
       "      <td>1</td>\n",
       "      <td>0</td>\n",
       "      <td>0</td>\n",
       "      <td>0</td>\n",
       "      <td>3</td>\n",
       "      <td>0</td>\n",
       "    </tr>\n",
       "    <tr>\n",
       "      <th>4</th>\n",
       "      <td>TRAIN_000004</td>\n",
       "      <td>TRVNRY</td>\n",
       "      <td>만18-34세</td>\n",
       "      <td>IVF</td>\n",
       "      <td>ICSI</td>\n",
       "      <td>1</td>\n",
       "      <td>0</td>\n",
       "      <td>0</td>\n",
       "      <td>0</td>\n",
       "      <td>0</td>\n",
       "      <td>...</td>\n",
       "      <td>배우자 제공</td>\n",
       "      <td>알 수 없음</td>\n",
       "      <td>알 수 없음</td>\n",
       "      <td>0</td>\n",
       "      <td>1</td>\n",
       "      <td>0</td>\n",
       "      <td>0</td>\n",
       "      <td>0</td>\n",
       "      <td>3</td>\n",
       "      <td>0</td>\n",
       "    </tr>\n",
       "  </tbody>\n",
       "</table>\n",
       "<p>5 rows × 59 columns</p>\n",
       "</div>"
      ],
      "text/plain": [
       "             ID 시술 시기 코드 시술 당시 나이 시술 유형 특정 시술 유형  배란 자극 여부  단일 배아 이식 여부  \\\n",
       "0  TRAIN_000000   TRZKPL  만18-34세   IVF     ICSI         1            0   \n",
       "1  TRAIN_000001   TRYBLT  만45-50세   IVF     ICSI         0            0   \n",
       "2  TRAIN_000002   TRVNRY  만18-34세   IVF      IVF         1            0   \n",
       "3  TRAIN_000003   TRJXFG  만35-37세   IVF     ICSI         1            0   \n",
       "4  TRAIN_000004   TRVNRY  만18-34세   IVF     ICSI         1            0   \n",
       "\n",
       "   착상 전 유전 진단 사용 여부  남성 주 불임 원인  남성 부 불임 원인  ...   정자 출처  난자 기증자 나이  \\\n",
       "0                 0           0           0  ...  배우자 제공     알 수 없음   \n",
       "1                 0           0           0  ...  배우자 제공     알 수 없음   \n",
       "2                 0           0           0  ...  배우자 제공     알 수 없음   \n",
       "3                 0           0           0  ...  배우자 제공     알 수 없음   \n",
       "4                 0           0           0  ...  배우자 제공     알 수 없음   \n",
       "\n",
       "   정자 기증자 나이  동결 배아 사용 여부  신선 배아 사용 여부  기증 배아 사용 여부  대리모 여부  난자 혼합 경과일  \\\n",
       "0     알 수 없음            0            1            0       0          0   \n",
       "1     알 수 없음            0            1            0       0          0   \n",
       "2     알 수 없음            0            1            0       0          0   \n",
       "3     알 수 없음            0            1            0       0          0   \n",
       "4     알 수 없음            0            1            0       0          0   \n",
       "\n",
       "   배아 이식 경과일  임신 성공 여부  \n",
       "0          3         0  \n",
       "1          3         0  \n",
       "2          2         0  \n",
       "3          3         0  \n",
       "4          3         0  \n",
       "\n",
       "[5 rows x 59 columns]"
      ]
     },
     "execution_count": 12,
     "metadata": {},
     "output_type": "execute_result"
    }
   ],
   "source": [
    "train_df.head()"
   ]
  }
 ],
 "metadata": {
  "kernelspec": {
   "display_name": "Python (Aimers)",
   "language": "python",
   "name": "aimers"
  },
  "language_info": {
   "codemirror_mode": {
    "name": "ipython",
    "version": 3
   },
   "file_extension": ".py",
   "mimetype": "text/x-python",
   "name": "python",
   "nbconvert_exporter": "python",
   "pygments_lexer": "ipython3",
   "version": "3.12.3"
  }
 },
 "nbformat": 4,
 "nbformat_minor": 5
}
